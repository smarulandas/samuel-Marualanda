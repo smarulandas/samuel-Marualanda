{
  "nbformat": 4,
  "nbformat_minor": 0,
  "metadata": {
    "colab": {
      "provenance": [],
      "authorship_tag": "ABX9TyMHJPZNyRUCJWPgRwJRdPlR",
      "include_colab_link": true
    },
    "kernelspec": {
      "name": "python3",
      "display_name": "Python 3"
    },
    "language_info": {
      "name": "python"
    }
  },
  "cells": [
    {
      "cell_type": "markdown",
      "metadata": {
        "id": "view-in-github",
        "colab_type": "text"
      },
      "source": [
        "<a href=\"https://colab.research.google.com/github/smarulandas/samuel-Marualanda/blob/main/Simulacion_Masa_Resorte.ipynb\" target=\"_parent\"><img src=\"https://colab.research.google.com/assets/colab-badge.svg\" alt=\"Open In Colab\"/></a>"
      ]
    },
    {
      "cell_type": "markdown",
      "source": [
        "A continuación"
      ],
      "metadata": {
        "id": "TXIR-6rjh5C-"
      }
    },
    {
      "cell_type": "code",
      "execution_count": null,
      "metadata": {
        "colab": {
          "base_uri": "https://localhost:8080/"
        },
        "id": "tIZ-aa-7hVbZ",
        "outputId": "2ecf38fb-242d-44f0-c5c9-14eabc59830a"
      },
      "outputs": [
        {
          "output_type": "stream",
          "name": "stdout",
          "text": [
            "Requirement already satisfied: sympy in /usr/local/lib/python3.11/dist-packages (1.13.3)\n",
            "Requirement already satisfied: mpmath<1.4,>=1.1.0 in /usr/local/lib/python3.11/dist-packages (from sympy) (1.3.0)\n",
            "Requirement already satisfied: control in /usr/local/lib/python3.11/dist-packages (0.10.1)\n",
            "Requirement already satisfied: numpy>=1.23 in /usr/local/lib/python3.11/dist-packages (from control) (1.26.4)\n",
            "Requirement already satisfied: scipy>=1.8 in /usr/local/lib/python3.11/dist-packages (from control) (1.13.1)\n",
            "Requirement already satisfied: matplotlib>=3.6 in /usr/local/lib/python3.11/dist-packages (from control) (3.10.0)\n",
            "Requirement already satisfied: contourpy>=1.0.1 in /usr/local/lib/python3.11/dist-packages (from matplotlib>=3.6->control) (1.3.1)\n",
            "Requirement already satisfied: cycler>=0.10 in /usr/local/lib/python3.11/dist-packages (from matplotlib>=3.6->control) (0.12.1)\n",
            "Requirement already satisfied: fonttools>=4.22.0 in /usr/local/lib/python3.11/dist-packages (from matplotlib>=3.6->control) (4.56.0)\n",
            "Requirement already satisfied: kiwisolver>=1.3.1 in /usr/local/lib/python3.11/dist-packages (from matplotlib>=3.6->control) (1.4.8)\n",
            "Requirement already satisfied: packaging>=20.0 in /usr/local/lib/python3.11/dist-packages (from matplotlib>=3.6->control) (24.2)\n",
            "Requirement already satisfied: pillow>=8 in /usr/local/lib/python3.11/dist-packages (from matplotlib>=3.6->control) (11.1.0)\n",
            "Requirement already satisfied: pyparsing>=2.3.1 in /usr/local/lib/python3.11/dist-packages (from matplotlib>=3.6->control) (3.2.1)\n",
            "Requirement already satisfied: python-dateutil>=2.7 in /usr/local/lib/python3.11/dist-packages (from matplotlib>=3.6->control) (2.8.2)\n",
            "Requirement already satisfied: six>=1.5 in /usr/local/lib/python3.11/dist-packages (from python-dateutil>=2.7->matplotlib>=3.6->control) (1.17.0)\n"
          ]
        }
      ],
      "source": [
        "!pip install sympy --upgrade #actualizar sympy para usar módulo de control\n",
        "!pip install control\n"
      ]
    },
    {
      "cell_type": "code",
      "source": [
        "import sympy as sym\n",
        "import matplotlib.pyplot as plt\n",
        "import numpy as np\n",
        "\n",
        "\n",
        "sym.init_printing()\n",
        "\n",
        "s = sym.symbols('s', complex=True)\n",
        "t, m, c, k = sym.symbols('t m c k', positive=True, real=True)\n",
        "\n",
        "# Entrada de interés en Laplace\n",
        "X = 1  # X(s) = 1 Respuesta a impulso; X(s) = 1/s respuesta a escalón, X(s) = 1/s**2 respuesta a la rampa\n",
        "\n",
        "# Función de transferencia del sistema masa-resorte-amortiguador\n",
        "H = 1 / (m * s**2 + c * s + k)\n",
        "H"
      ],
      "metadata": {
        "colab": {
          "base_uri": "https://localhost:8080/",
          "height": 52
        },
        "id": "DMekTRJ9ivCj",
        "outputId": "dfa341c3-1b7a-4605-e801-0db2ed751b5c"
      },
      "execution_count": null,
      "outputs": [
        {
          "output_type": "execute_result",
          "data": {
            "text/plain": [
              "      1       \n",
              "──────────────\n",
              "             2\n",
              "c⋅s + k + m⋅s "
            ],
            "text/latex": "$\\displaystyle \\frac{1}{c s + k + m s^{2}}$"
          },
          "metadata": {},
          "execution_count": 47
        }
      ]
    },
    {
      "cell_type": "code",
      "source": [
        "# Evaluar valores específicos para m, c y k\n",
        "param_values = {m: 4, c: sym.Rational('0.9'), k: sym.Rational('0.8')}\n",
        "H_evaluated = H.subs(param_values)\n",
        "\n",
        "H, p1, p2, H_evaluated"
      ],
      "metadata": {
        "colab": {
          "base_uri": "https://localhost:8080/",
          "height": 81
        },
        "id": "ikwp60epjUsJ",
        "outputId": "9b7b6e8a-54e6-491e-bf96-9217c4a4a9ce"
      },
      "execution_count": null,
      "outputs": [
        {
          "output_type": "execute_result",
          "data": {
            "text/plain": [
              "⎛                                   ____________                     ____________                ⎞\n",
              "⎜                                  ╱      2                         ╱      2                     ⎟\n",
              "⎜                                 ╱    C⋅R                         ╱    C⋅R                      ⎟\n",
              "⎜                        1.0⋅ⅈ⋅  ╱   - ──── + 1           1.0⋅ⅈ⋅  ╱   - ──── + 1                 ⎟\n",
              "⎜      1            R          ╲╱      4⋅L           R          ╲╱      4⋅L              1       ⎟\n",
              "⎜──────────────, - ─── + ───────────────────────, - ─── - ───────────────────────, ──────────────⎟\n",
              "⎜             2    2⋅L            √C⋅√L             2⋅L            √C⋅√L              2   9⋅s   4⎟\n",
              "⎜c⋅s + k + m⋅s                                                                     4⋅s  + ─── + ─⎟\n",
              "⎝                                                                                         10    5⎠"
            ],
            "text/latex": "$\\displaystyle \\left( \\frac{1}{c s + k + m s^{2}}, \\  - \\frac{R}{2 L} + \\frac{1.0 i \\sqrt{- \\frac{C R^{2}}{4 L} + 1}}{\\sqrt{C} \\sqrt{L}}, \\  - \\frac{R}{2 L} - \\frac{1.0 i \\sqrt{- \\frac{C R^{2}}{4 L} + 1}}{\\sqrt{C} \\sqrt{L}}, \\  \\frac{1}{4 s^{2} + \\frac{9 s}{10} + \\frac{4}{5}}\\right)$"
          },
          "metadata": {},
          "execution_count": 48
        }
      ]
    },
    {
      "cell_type": "code",
      "source": [
        "# Imprimir valores evaluados\n",
        "print('p1 =', p1.subs(param_values))\n",
        "print('p2 =', p2.subs(param_values))\n",
        "print('xi =', xi.subs(param_values))\n",
        "print('omega_n =', wn.subs(param_values))\n",
        "\n",
        "H, p1, p2, H_evaluated"
      ],
      "metadata": {
        "colab": {
          "base_uri": "https://localhost:8080/",
          "height": 150
        },
        "id": "DXdypAjQjYWD",
        "outputId": "eb21a337-fa1f-458d-ab94-260aa75a77d9"
      },
      "execution_count": null,
      "outputs": [
        {
          "output_type": "stream",
          "name": "stdout",
          "text": [
            "p1 = -R/(2*L) + 1.0*I*sqrt(-C*R**2/(4*L) + 1)/(sqrt(C)*sqrt(L))\n",
            "p2 = -R/(2*L) - 1.0*I*sqrt(-C*R**2/(4*L) + 1)/(sqrt(C)*sqrt(L))\n",
            "xi = sqrt(C)*R/(2*sqrt(L))\n",
            "omega_n = 1/(sqrt(C)*sqrt(L))\n"
          ]
        },
        {
          "output_type": "execute_result",
          "data": {
            "text/plain": [
              "⎛                                   ____________                     ____________                ⎞\n",
              "⎜                                  ╱      2                         ╱      2                     ⎟\n",
              "⎜                                 ╱    C⋅R                         ╱    C⋅R                      ⎟\n",
              "⎜                        1.0⋅ⅈ⋅  ╱   - ──── + 1           1.0⋅ⅈ⋅  ╱   - ──── + 1                 ⎟\n",
              "⎜      1            R          ╲╱      4⋅L           R          ╲╱      4⋅L              1       ⎟\n",
              "⎜──────────────, - ─── + ───────────────────────, - ─── - ───────────────────────, ──────────────⎟\n",
              "⎜             2    2⋅L            √C⋅√L             2⋅L            √C⋅√L              2   9⋅s   4⎟\n",
              "⎜c⋅s + k + m⋅s                                                                     4⋅s  + ─── + ─⎟\n",
              "⎝                                                                                         10    5⎠"
            ],
            "text/latex": "$\\displaystyle \\left( \\frac{1}{c s + k + m s^{2}}, \\  - \\frac{R}{2 L} + \\frac{1.0 i \\sqrt{- \\frac{C R^{2}}{4 L} + 1}}{\\sqrt{C} \\sqrt{L}}, \\  - \\frac{R}{2 L} - \\frac{1.0 i \\sqrt{- \\frac{C R^{2}}{4 L} + 1}}{\\sqrt{C} \\sqrt{L}}, \\  \\frac{1}{4 s^{2} + \\frac{9 s}{10} + \\frac{4}{5}}\\right)$"
          },
          "metadata": {},
          "execution_count": 49
        }
      ]
    },
    {
      "cell_type": "code",
      "source": [
        "from sympy import symbols, fraction, cancel\n",
        "from sympy.physics.control.lti import TransferFunction\n",
        "from sympy.physics.control.control_plots import pole_zero_plot\n",
        "\n",
        "# Definir la variable de Laplace\n",
        "s = symbols('s', complex=True)\n",
        "m, c, k = symbols('m c k', positive=True, real=True)\n",
        "\n",
        "# Función de transferencia del sistema masa-resorte-amortiguador\n",
        "H = 1 / (m * s**2 + c * s + k)\n",
        "\n",
        "# Evaluar valores específicos para m, c y k\n",
        "param_values = {m: 4, c: 0.9, k: 0.8}\n",
        "H_evaluated = H.subs(param_values)\n",
        "\n",
        "# Obtener numerador y denominador\n",
        "num, den = fraction(cancel(H_evaluated))\n",
        "\n",
        "# Crear función de transferencia y graficar polos y ceros\n",
        "tf1 = TransferFunction(num, den, s)\n",
        "pole_zero_plot(tf1)\n"
      ],
      "metadata": {
        "colab": {
          "base_uri": "https://localhost:8080/",
          "height": 496
        },
        "id": "yZJijmlJmH1t",
        "outputId": "2fb6a35a-f7da-495f-821e-25c4991069e0"
      },
      "execution_count": null,
      "outputs": [
        {
          "output_type": "display_data",
          "data": {
            "text/plain": [
              "<Figure size 640x480 with 1 Axes>"
            ],
            "image/png": "[encoded data removed]"
          },
          "metadata": {}
        }
      ]
    },
    {
      "cell_type": "code",
      "source": [
        "#salida según entrada de interés\n",
        "Y = H * X #función de transferencia del circuito multiplicada por X(s)\n",
        "#Función de salida\n",
        "Y"
      ],
      "metadata": {
        "colab": {
          "base_uri": "https://localhost:8080/",
          "height": 52
        },
        "id": "IcTBW4WammfW",
        "outputId": "c6ac4d50-4a71-4465-f619-dbae77216f54"
      },
      "execution_count": null,
      "outputs": [
        {
          "output_type": "execute_result",
          "data": {
            "text/plain": [
              "      1       \n",
              "──────────────\n",
              "             2\n",
              "c⋅s + k + m⋅s "
            ],
            "text/latex": "$\\displaystyle \\frac{1}{c s + k + m s^{2}}$"
          },
          "metadata": {},
          "execution_count": 51
        }
      ]
    },
    {
      "cell_type": "code",
      "source": [
        "#Función de salida en Laplace factorizada (fracciones parciales)\n",
        "Yp = Y.apart(s) # el comando apart factoriza la expresión simbólica\n",
        "Yp\n"
      ],
      "metadata": {
        "colab": {
          "base_uri": "https://localhost:8080/",
          "height": 52
        },
        "id": "3tUS56Hzmpwa",
        "outputId": "31d739db-26e4-41c5-b05e-a5aa382de0b1"
      },
      "execution_count": null,
      "outputs": [
        {
          "output_type": "execute_result",
          "data": {
            "text/plain": [
              "      1       \n",
              "──────────────\n",
              "             2\n",
              "c⋅s + k + m⋅s "
            ],
            "text/latex": "$\\displaystyle \\frac{1}{c s + k + m s^{2}}$"
          },
          "metadata": {},
          "execution_count": 52
        }
      ]
    },
    {
      "cell_type": "code",
      "source": [
        "#Modelo en el tiempo en función de RLC\n",
        "Ye = Yp\n",
        "#Se recorre cada fracción parcial según factorización para simplificar cálculos\n",
        "for j in range(len(Ye.args)):\n",
        "    if j==0:#primer elemento de la solucion\n",
        "      yt = sym.inverse_laplace_transform(Ye.args[j], s, t)\n",
        "    else: #siguientes elementos concatenados\n",
        "      yt+= sym.inverse_laplace_transform(Ye.args[j], s, t)\n",
        "yt"
      ],
      "metadata": {
        "colab": {
          "base_uri": "https://localhost:8080/",
          "height": 37
        },
        "id": "8fWtlxR6mr6U",
        "outputId": "8959cb54-a9b2-45a8-84f7-5e89f2c6ebbc"
      },
      "execution_count": null,
      "outputs": [
        {
          "output_type": "execute_result",
          "data": {
            "text/plain": [
              "0"
            ],
            "text/latex": "$\\displaystyle 0$"
          },
          "metadata": {},
          "execution_count": 53
        }
      ]
    },
    {
      "cell_type": "code",
      "source": [
        "#Modelo en el tiempo en función de RLC - substituir valores\n",
        "Ye = Yp.subs(param_values).apart(s)\n",
        "Ye"
      ],
      "metadata": {
        "colab": {
          "base_uri": "https://localhost:8080/",
          "height": 52
        },
        "id": "dFsqXxdGmuh3",
        "outputId": "ddf8c4a8-11e4-4734-e7d4-f3457e5bc8f4"
      },
      "execution_count": null,
      "outputs": [
        {
          "output_type": "execute_result",
          "data": {
            "text/plain": [
              "         0.25         \n",
              "──────────────────────\n",
              "     2                \n",
              "1.0⋅s  + 0.225⋅s + 0.2"
            ],
            "text/latex": "$\\displaystyle \\frac{0.25}{1.0 s^{2} + 0.225 s + 0.2}$"
          },
          "metadata": {},
          "execution_count": 54
        }
      ]
    },
    {
      "cell_type": "code",
      "source": [
        "#Se recorre cada fracción parcial según factorización para simplificar cálculos\n",
        "for j in range(len(Ye.args)):\n",
        "    if j==0:#primer elemento de la solucion\n",
        "      yt = sym.inverse_laplace_transform(Ye.args[j], s, t)\n",
        "    else: #siguientes elementos concatenados\n",
        "      yt+= sym.inverse_laplace_transform(Ye.args[j], s, t)\n",
        "yt"
      ],
      "metadata": {
        "colab": {
          "base_uri": "https://localhost:8080/",
          "height": 38
        },
        "id": "OIq_Jy5pmwvn",
        "outputId": "c5d4547a-2e1c-439c-c1d8-e9cd52661652"
      },
      "execution_count": null,
      "outputs": [
        {
          "output_type": "execute_result",
          "data": {
            "text/plain": [
              "                  -0.1125⋅t                        \n",
              "2.31036392903163⋅ℯ         ⋅sin(0.43283224232952⋅t)"
            ],
            "text/latex": "$\\displaystyle 2.31036392903163 e^{- 0.1125 t} \\sin{\\left(0.43283224232952 t \\right)}$"
          },
          "metadata": {},
          "execution_count": 55
        }
      ]
    },
    {
      "cell_type": "code",
      "source": [
        "limite_grafica = float((3 / xi * wn).subs(param_values).evalf())\n",
        "sym.plot(yt, (t, 0, limite_grafica), xlabel='$t$', ylabel='$y(t)$')\n",
        "plt.show()"
      ],
      "metadata": {
        "colab": {
          "base_uri": "https://localhost:8080/",
          "height": 297
        },
        "collapsed": true,
        "id": "ZCRBC0qNmzRb",
        "outputId": "8ff33c81-4c35-4a49-f551-349892b8eb94"
      },
      "execution_count": null,
      "outputs": [
        {
          "output_type": "error",
          "ename": "TypeError",
          "evalue": "Cannot convert expression to float",
          "traceback": [
            "\u001b[0;31m---------------------------------------------------------------------------\u001b[0m",
            "\u001b[0;31mTypeError\u001b[0m                                 Traceback (most recent call last)",
            "\u001b[0;32m<ipython-input-59-651e43036146>\u001b[0m in \u001b[0;36m<cell line: 0>\u001b[0;34m()\u001b[0m\n\u001b[0;32m----> 1\u001b[0;31m \u001b[0mlimite_grafica\u001b[0m \u001b[0;34m=\u001b[0m \u001b[0mfloat\u001b[0m\u001b[0;34m(\u001b[0m\u001b[0;34m(\u001b[0m\u001b[0;36m3\u001b[0m \u001b[0;34m/\u001b[0m \u001b[0mxi\u001b[0m \u001b[0;34m*\u001b[0m \u001b[0mwn\u001b[0m\u001b[0;34m)\u001b[0m\u001b[0;34m.\u001b[0m\u001b[0msubs\u001b[0m\u001b[0;34m(\u001b[0m\u001b[0mparam_values\u001b[0m\u001b[0;34m)\u001b[0m\u001b[0;34m.\u001b[0m\u001b[0mevalf\u001b[0m\u001b[0;34m(\u001b[0m\u001b[0;34m)\u001b[0m\u001b[0;34m)\u001b[0m\u001b[0;34m\u001b[0m\u001b[0;34m\u001b[0m\u001b[0m\n\u001b[0m\u001b[1;32m      2\u001b[0m \u001b[0msym\u001b[0m\u001b[0;34m.\u001b[0m\u001b[0mplot\u001b[0m\u001b[0;34m(\u001b[0m\u001b[0myt\u001b[0m\u001b[0;34m,\u001b[0m \u001b[0;34m(\u001b[0m\u001b[0mt\u001b[0m\u001b[0;34m,\u001b[0m \u001b[0;36m0\u001b[0m\u001b[0;34m,\u001b[0m \u001b[0mlimite_grafica\u001b[0m\u001b[0;34m)\u001b[0m\u001b[0;34m,\u001b[0m \u001b[0mxlabel\u001b[0m\u001b[0;34m=\u001b[0m\u001b[0;34m'$t$'\u001b[0m\u001b[0;34m,\u001b[0m \u001b[0mylabel\u001b[0m\u001b[0;34m=\u001b[0m\u001b[0;34m'$y(t)$'\u001b[0m\u001b[0;34m)\u001b[0m\u001b[0;34m\u001b[0m\u001b[0;34m\u001b[0m\u001b[0m\n\u001b[1;32m      3\u001b[0m \u001b[0mplt\u001b[0m\u001b[0;34m.\u001b[0m\u001b[0mshow\u001b[0m\u001b[0;34m(\u001b[0m\u001b[0;34m)\u001b[0m\u001b[0;34m\u001b[0m\u001b[0;34m\u001b[0m\u001b[0m\n",
            "\u001b[0;32m/usr/local/lib/python3.11/dist-packages/sympy/core/expr.py\u001b[0m in \u001b[0;36m__float__\u001b[0;34m(self)\u001b[0m\n\u001b[1;32m    338\u001b[0m         \u001b[0;32mif\u001b[0m \u001b[0mresult\u001b[0m\u001b[0;34m.\u001b[0m\u001b[0mis_number\u001b[0m \u001b[0;32mand\u001b[0m \u001b[0mresult\u001b[0m\u001b[0;34m.\u001b[0m\u001b[0mas_real_imag\u001b[0m\u001b[0;34m(\u001b[0m\u001b[0;34m)\u001b[0m\u001b[0;34m[\u001b[0m\u001b[0;36m1\u001b[0m\u001b[0;34m]\u001b[0m\u001b[0;34m:\u001b[0m\u001b[0;34m\u001b[0m\u001b[0;34m\u001b[0m\u001b[0m\n\u001b[1;32m    339\u001b[0m             \u001b[0;32mraise\u001b[0m \u001b[0mTypeError\u001b[0m\u001b[0;34m(\u001b[0m\u001b[0;34m\"Cannot convert complex to float\"\u001b[0m\u001b[0;34m)\u001b[0m\u001b[0;34m\u001b[0m\u001b[0;34m\u001b[0m\u001b[0m\n\u001b[0;32m--> 340\u001b[0;31m         \u001b[0;32mraise\u001b[0m \u001b[0mTypeError\u001b[0m\u001b[0;34m(\u001b[0m\u001b[0;34m\"Cannot convert expression to float\"\u001b[0m\u001b[0;34m)\u001b[0m\u001b[0;34m\u001b[0m\u001b[0;34m\u001b[0m\u001b[0m\n\u001b[0m\u001b[1;32m    341\u001b[0m \u001b[0;34m\u001b[0m\u001b[0m\n\u001b[1;32m    342\u001b[0m     \u001b[0;32mdef\u001b[0m \u001b[0m__complex__\u001b[0m\u001b[0;34m(\u001b[0m\u001b[0mself\u001b[0m\u001b[0;34m)\u001b[0m\u001b[0;34m:\u001b[0m\u001b[0;34m\u001b[0m\u001b[0;34m\u001b[0m\u001b[0m\n",
            "\u001b[0;31mTypeError\u001b[0m: Cannot convert expression to float"
          ]
        }
      ]
    },
    {
      "cell_type": "markdown",
      "source": [
        "La curva muestra un comportamiento inicialmente ascendente desde cero, alcanzando un máximo para luego descender. Esta respuesta es característica de sistemas de segundo orden con amortiguamiento subamortiguado o críticamente amortiguado.\n",
        "En un sistema subamortiguado, observaríamos oscilaciones amortiguadas alrededor del valor de equilibrio, mientras que en un sistema críticamente amortiguado veríamos un retorno suave al equilibrio sin sobrepasos adicionales.\n",
        "Esta dinámica, si representa el desplazamiento y(t) de un sistema masa-resorte-amortiguador, indica que:\n",
        "\n",
        "El sistema parte del reposo (y=0)\n",
        "Responde a una excitación externa (posiblemente una entrada escalón o impulso)\n",
        "Alcanza un desplazamiento máximo donde momentáneamente la velocidad se hace cero\n",
        "Posteriormente regresa hacia su posición de equilibrio bajo la influencia de las fuerzas restauradoras del resorte y la disipación de energía del amortiguador\n",
        "\n",
        "El tiempo que tarda en alcanzar el valor máximo y la magnitud de este pico proporcionan información importante sobre la rigidez del sistema y su factor de amortiguamiento."
      ],
      "metadata": {
        "id": "mmDlU5I-m6dq"
      }
    },
    {
      "cell_type": "markdown",
      "source": [
        "Para sistema equivalente masa rwsorte amortiguador a partir del circuito electrico"
      ],
      "metadata": {
        "id": "JTvfrJBxm-uv"
      }
    },
    {
      "cell_type": "code",
      "source": [
        "import sympy as sym\n",
        "import matplotlib.pyplot as plt\n",
        "import numpy as np\n",
        "import control as ctl  # Librería alternativa para sistemas de control\n",
        "\n",
        "sym.init_printing()\n",
        "\n",
        "s = sym.symbols('s', complex=True)\n",
        "t, L, R, C = sym.symbols('t L R C', positive=True, real=True)\n",
        "\n",
        "# Entrada de interés en Laplace\n",
        "X = 1  # X(s) = 1 Respuesta a impulso; X(s) = 1/s respuesta a escalón, X(s) = 1/s**2 respuesta a la rampa\n",
        "\n",
        "# Función de transferencia del sistema eléctrico\n",
        "H = 1 / (L * s**2 + R * s + (1 / C))\n",
        "\n",
        "# Función de salida según entrada de interés\n",
        "Y = H * X  # Función de transferencia multiplicada por la entrada X(s)\n",
        "\n",
        "# Cálculo de los polos\n",
        "xi = R / (2 * sym.sqrt(L / C))  # Factor de amortiguamiento\n",
        "wn = sym.sqrt(1 / (L * C))  # Frecuencia natural\n",
        "p1 = -xi * wn + 1j * wn * sym.sqrt(1 - xi**2)\n",
        "p2 = -xi * wn - 1j * wn * sym.sqrt(1 - xi**2)\n",
        "\n",
        "# Evaluar valores específicos para L, R y C\n",
        "param_values = {L: 1, R: sym.Rational('0.5'), C: sym.Rational('0.4')}\n",
        "H_evaluated = H.subs(param_values)\n",
        "Y_evaluated = Y.subs(param_values)\n",
        "\n",
        "# Imprimir valores evaluados\n",
        "print('p1 =', p1.subs(param_values))\n",
        "print('p2 =', p2.subs(param_values))\n",
        "print('xi =', xi.subs(param_values))\n",
        "print('omega_n =', wn.subs(param_values))\n",
        "print('Y(s) =', Y_evaluated)\n",
        "\n",
        "# Extraer numerador y denominador\n",
        "num, den = sym.fraction(sym.cancel(H_evaluated))\n",
        "num = [float(num)] if num.is_Number else [float(c) for c in sym.Poly(num, s).all_coeffs()]\n",
        "den = [float(c) for c in sym.Poly(den, s).all_coeffs()]\n",
        "\n",
        "# Crear y graficar la función de transferencia\n",
        "tf1 = ctl.TransferFunction(num, den)\n",
        "plt.figure()\n",
        "ctl.pzmap(tf1, plot=True)\n",
        "plt.title(\"Diagrama de Polos y Ceros\")\n",
        "plt.grid()\n",
        "plt.show()\n",
        "\n",
        "# Gráfica de la respuesta en el tiempo\n",
        "t_values = np.linspace(0, 10, 1000)\n",
        "t_out, y_out = ctl.impulse_response(tf1, t_values)\n",
        "plt.figure()\n",
        "plt.plot(t_out, y_out, label=\"Respuesta al impulso\")\n",
        "plt.xlabel(\"Tiempo (s)\")\n",
        "plt.ylabel(\"y(t)\")\n",
        "plt.title(\"Respuesta en el Tiempo\")\n",
        "plt.legend()\n",
        "plt.grid()\n",
        "plt.show()\n",
        "\n",
        "H, Y, p1, p2, H_evaluated, Y_evaluated\n"
      ],
      "metadata": {
        "id": "0md2uwDkm1n_"
      },
      "execution_count": null,
      "outputs": []
    },
    {
      "cell_type": "markdown",
      "source": [
        "La señal exhibe un comportamiento oscilatorio con amplitud decreciente antes de converger a cero, lo que caracteriza claramente a un sistema subamortiguado. Esta respuesta transitoria muestra cómo el sistema oscila alrededor de su posición de equilibrio mientras la energía se disipa gradualmente a través del mecanismo de amortiguamiento.\n",
        "El patrón de oscilaciones amortiguadas confirma que el factor de amortiguamiento (ξ) es menor que 1 pero mayor que 0, permitiendo que el sistema oscile mientras eventualmente alcanza la estabilidad. Cada oscilación sucesiva tiene una amplitud menor que la anterior, con una envolvente exponencial decreciente que delimita los picos de las oscilaciones.\n",
        "La convergencia final a cero indica que el sistema es estable y regresa a su estado de equilibrio después de la perturbación inicial, sin ninguna desviación permanente (offset) o respuesta en estado estacionario no nula."
      ],
      "metadata": {
        "id": "0Y0KhI78oizN"
      }
    }
  ]
}